{
 "cells": [
  {
   "cell_type": "markdown",
   "metadata": {},
   "source": [
    "# Example Decision Rule Calculations\n",
    "\n",
    "This notebook provides simple example calculations for signallers in the disclosure game. The example follows the decision process of a light drinker who has played three rounds with a succession of particularly judgemental midwives, signalling honestly in two and claiming to be a moderate drinker in one."
   ]
  },
  {
   "cell_type": "code",
   "execution_count": 1,
   "metadata": {
    "collapsed": false
   },
   "outputs": [],
   "source": [
    "import disclosuregame\n",
    "from disclosuregame.Agents.bayes import BayesianSignaller, Responder\n",
    "from disclosuregame.Agents.cpt import ProspectTheorySignaller\n",
    "from disclosuregame.Agents.heuristic import SharingLexicographicSignaller\n",
    "from disclosuregame.Agents.payoff import BayesianPayoffSignaller\n",
    "from disclosuregame.Games.game import SimpleGame"
   ]
  },
  {
   "cell_type": "code",
   "execution_count": 9,
   "metadata": {
    "collapsed": true
   },
   "outputs": [],
   "source": [
    "response_alpha=[[1.0, 1.0], [1.0, 1.0], [1.0, 1.0]]\n",
    "type_alpha=[1.0, 1.0, 1.0]\n",
    "\n",
    "def make_agents(agent_fn):\n",
    "    a = agent_fn(player_type=0, share_weight=1.0)\n",
    "    b = Responder(player_type=1)\n",
    "    game = SimpleGame(baby_payoff=10,referral_cost=9)\n",
    "    a.init_payoffs(game.woman_baby_payoff, game.woman_social_payoff, response_weights=response_alpha, type_weights=type_alpha)\n",
    "    return a, b\n",
    "\n",
    "def play_games(agent, opponent):\n",
    "    agent.log_signal(0)\n",
    "    agent.update_counts(0, opponent, 10)\n",
    "    agent.log_signal(0)\n",
    "    agent.update_counts(0, opponent, 10)\n",
    "    agent.log_signal(1)\n",
    "    agent.update_counts(0, opponent, 9)"
   ]
  },
  {
   "cell_type": "markdown",
   "metadata": {},
   "source": [
    "## Lexicographic\n",
    "\n",
    "The lexicographic agent does a very simple counting process, and determines the most common outcomes of each signal (10 for light, 9 for moderate, and 8 for heavy). Since there is a clearly preferable option (light), it sends a light drinker signal."
   ]
  },
  {
   "cell_type": "code",
   "execution_count": 10,
   "metadata": {
    "collapsed": false
   },
   "outputs": [
    {
     "name": "stdout",
     "output_type": "stream",
     "text": [
      "0 <disclosuregame.Agents.bayes.Responder object at 0x10b682990> 10 None 1.0 0\n",
      "Amending 1\n",
      "Changed to 2.0\n",
      "0 <disclosuregame.Agents.bayes.Responder object at 0x10b682990> 10 None 1.0 0\n",
      "Amending 2.0\n",
      "Changed to 3.0\n",
      "0 <disclosuregame.Agents.bayes.Responder object at 0x10b682990> 9 None 1.0 1\n",
      "Amending 1\n",
      "Changed to 2.0\n",
      "Most common outcome for light signal: 10\n",
      "Most common outcome for moderate signal: 9\n",
      "Most common outcome for heavy signal: 8\n",
      "Signal choice is (0, 10)\n"
     ]
    }
   ],
   "source": [
    "a, b = make_agents(SharingLexicographicSignaller)\n",
    "# Reset the payoff count, because init_payoffs counts \n",
    "# based on 'possible experiences' not literal alpha\n",
    "for signal, payoffs in a.payoff_count.iteritems():\n",
    "    for payoff, val in payoffs.iteritems():\n",
    "        a.payoff_count[signal][payoff] = 1\n",
    "play_games(a, b)\n",
    "a.update_beliefs()\n",
    "print \"Most common outcome for light signal:\", a.frequent(0, 0)\n",
    "print \"Most common outcome for moderate signal:\", a.frequent(1, 0)\n",
    "print \"Most common outcome for heavy signal:\", a.frequent(2, 0)\n",
    "print \"Signal choice is\", a.signal_search([0, 1, 2])"
   ]
  },
  {
   "cell_type": "markdown",
   "metadata": {},
   "source": [
    "## Payoff Based Bayesian Risk Minimisation\n",
    "\n",
    "The payoff Bayesian risk minimisation agent takes a similar approach, but uses the liklihood of the outcomes in combination with the outcome, rather than just counting. \n",
    "\n",
    "The possible pairings of signals and outcomes are $[(l,10),(m,10),(h,10),(m,9),(h,9),(h,8)]$, with $\\alpha_{i} = 1,n_i=0$ for all $i$. \n",
    "After playing the three rounds, $n_{l,10} = 2$, and $n_{m,9} = 1$."
   ]
  },
  {
   "cell_type": "code",
   "execution_count": 16,
   "metadata": {
    "collapsed": false
   },
   "outputs": [
    {
     "name": "stdout",
     "output_type": "stream",
     "text": [
      "Initial beliefs:\n",
      "Signal-action counts: {0: {10: 1}, 1: {9: 1, 10: 1}, 2: {8: 1, 9: 1, 10: 1}}\n",
      "Prior beliefs: {0: {10: 1.0}, 1: {9: 0.3333333333333333, 10: 0.6666666666666666}, 2: {8: 0.3333333333333333, 9: 0.3333333333333333, 10: 0.3333333333333333}}\n",
      "Risk attached to light signal: -10.0\n",
      "Risk attached to moderate signal: -9.66666666667\n",
      "Risk attached to heavy signal: -9.0\n",
      "Signal choice is (0, -10.0)\n",
      "After three games:\n",
      "Signal-action counts: {0: {10: 3.0}, 1: {9: 2.0, 10: 1}, 2: {8: 1, 9: 1, 10: 1}}\n",
      "Beliefs: {0: {10: 1.0}, 1: {9: 0.6666666666666666, 10: 0.3333333333333333}, 2: {8: 0.3333333333333333, 9: 0.3333333333333333, 10: 0.3333333333333333}}\n",
      "Risk attached to light signal: -10.0\n",
      "Risk attached to moderate signal: -9.33333333333\n",
      "Risk attached to heavy signal: -9.0\n",
      "Signal choice is (0, -10.0)\n"
     ]
    }
   ],
   "source": [
    "a, b = make_agents(BayesianPayoffSignaller)\n",
    "# Reset the payoff count, because init_payoffs counts \n",
    "# based on 'possible experiences' not literal alpha\n",
    "for signal, payoffs in a.payoff_count.iteritems():\n",
    "    for payoff, val in payoffs.iteritems():\n",
    "        a.payoff_count[signal][payoff] = 1\n",
    "print \"Initial beliefs:\"\n",
    "print \"Signal-action counts:\",a.payoff_count\n",
    "print \"Prior beliefs:\", a.payoff_belief\n",
    "print \"Risk attached to light signal:\", a.risk(0)\n",
    "print \"Risk attached to moderate signal:\", a.risk(1)\n",
    "print \"Risk attached to heavy signal:\", a.risk(2)\n",
    "print \"Signal choice is\", a.signal_search([0, 1, 2])\n",
    "play_games(a, b)\n",
    "a.update_beliefs()\n",
    "print \"After three games:\"\n",
    "print \"Signal-action counts:\",a.payoff_count\n",
    "print \"Beliefs:\", a.payoff_belief\n",
    "print \"Risk attached to light signal:\", a.risk(0)\n",
    "print \"Risk attached to moderate signal:\", a.risk(1)\n",
    "print \"Risk attached to heavy signal:\", a.risk(2)\n",
    "print \"Signal choice is\", a.signal_search([0, 1, 2])"
   ]
  },
  {
   "cell_type": "markdown",
   "metadata": {},
   "source": [
    "## Bayesian Risk Minimisation"
   ]
  },
  {
   "cell_type": "code",
   "execution_count": 21,
   "metadata": {
    "collapsed": false
   },
   "outputs": [
    {
     "name": "stdout",
     "output_type": "stream",
     "text": [
      "{0: 0.0, 1: 0.0, 2: 0.0} {0: 0.0, 1: 0.0, 2: 0.0}\n",
      "Risk attached to light signal: -10.0\n",
      "Risk attached to moderate signal: -9.66666666667\n",
      "Risk attached to heavy signal: -9.0\n",
      "Signal choice is (0, -9.999999999999998)\n",
      "{0: 2.0, 1: 1.0, 2: 0.0} {0: 0.0, 1: 3.0, 2: 0.0}\n",
      "Risk attached to light signal: -10.0\n",
      "Risk attached to moderate signal: -9.83333333333\n",
      "Risk attached to heavy signal: -9.0\n",
      "Signal choice is (0, -9.999999999999998)\n"
     ]
    }
   ],
   "source": [
    "a, b = make_agents(BayesianSignaller)\n",
    "print a.signal_matches, a.type_matches\n",
    "print \"Risk attached to light signal:\", a.risk(0)\n",
    "print \"Risk attached to moderate signal:\", a.risk(1)\n",
    "print \"Risk attached to heavy signal:\", a.risk(2)\n",
    "print \"Signal choice is\", a.signal_search([0, 1, 2])\n",
    "play_games(a, b)\n",
    "print a.signal_matches, a.type_matches\n",
    "a.update_beliefs()\n",
    "print \"Risk attached to light signal:\", a.risk(0)\n",
    "print \"Risk attached to moderate signal:\", a.risk(1)\n",
    "print \"Risk attached to heavy signal:\", a.risk(2)\n",
    "print \"Signal choice is\", a.signal_search([0, 1, 2])"
   ]
  },
  {
   "cell_type": "markdown",
   "metadata": {
    "collapsed": true
   },
   "source": [
    "## CPT Example"
   ]
  },
  {
   "cell_type": "code",
   "execution_count": 14,
   "metadata": {
    "collapsed": false
   },
   "outputs": [],
   "source": [
    "a, b = make_agents(ProspectTheorySignaller)\n",
    "play_games(a, b)\n",
    "a.update_beliefs()"
   ]
  },
  {
   "cell_type": "code",
   "execution_count": 20,
   "metadata": {
    "collapsed": false
   },
   "outputs": [
    {
     "name": "stdout",
     "output_type": "stream",
     "text": [
      "[(10, 0.5), (10, 0.16666666666666666), (10, 0.125), (10, 0.125), (10, 0.041666666666666664), (10, 0.041666666666666664)]\n"
     ]
    },
    {
     "data": {
      "text/plain": [
       "7.585775750291834"
      ]
     },
     "execution_count": 20,
     "metadata": {},
     "output_type": "execute_result"
    }
   ],
   "source": [
    "prospects = a.collect_prospects(0)\n",
    "print prospects\n",
    "a.cpt_value(prospects)"
   ]
  },
  {
   "cell_type": "code",
   "execution_count": 17,
   "metadata": {
    "collapsed": false
   },
   "outputs": [
    {
     "name": "stdout",
     "output_type": "stream",
     "text": [
      "[(10, 0.1111111111111111), (10, 0.1111111111111111), (10, 0.05555555555555555), (10, 0.05555555555555555), (9, 0.4444444444444444), (9, 0.2222222222222222)]\n"
     ]
    },
    {
     "data": {
      "text/plain": [
       "7.139727151083673"
      ]
     },
     "execution_count": 17,
     "metadata": {},
     "output_type": "execute_result"
    }
   ],
   "source": [
    "prospects = a.collect_prospects(1)\n",
    "print prospects\n",
    "a.cpt_value(prospects)"
   ]
  },
  {
   "cell_type": "code",
   "execution_count": 18,
   "metadata": {
    "collapsed": false
   },
   "outputs": [
    {
     "name": "stdout",
     "output_type": "stream",
     "text": [
      "[(10, 0.08333333333333333), (10, 0.08333333333333333), (9, 0.08333333333333333), (9, 0.08333333333333333), (8, 0.3333333333333333), (8, 0.3333333333333333)]\n"
     ]
    },
    {
     "data": {
      "text/plain": [
       "6.622393760235688"
      ]
     },
     "execution_count": 18,
     "metadata": {},
     "output_type": "execute_result"
    }
   ],
   "source": [
    "prospects = a.collect_prospects(2)\n",
    "print prospects\n",
    "a.cpt_value(prospects)"
   ]
  },
  {
   "cell_type": "code",
   "execution_count": 4,
   "metadata": {
    "collapsed": false
   },
   "outputs": [
    {
     "data": {
      "text/plain": [
       "(29, [(1, 0, 0, 10), (1, 0, 0, 10), (1, 1, 0, 9)])"
      ]
     },
     "execution_count": 4,
     "metadata": {},
     "output_type": "execute_result"
    }
   ],
   "source": [
    "a.get_memory()"
   ]
  },
  {
   "cell_type": "code",
   "execution_count": 5,
   "metadata": {
    "collapsed": false
   },
   "outputs": [
    {
     "data": {
      "text/plain": [
       "{0: {10: 3.0}, 1: {9: 2.0, 10: 1}, 2: {8: 1, 9: 1, 10: 1}}"
      ]
     },
     "execution_count": 5,
     "metadata": {},
     "output_type": "execute_result"
    }
   ],
   "source": [
    "a.payoff_count"
   ]
  },
  {
   "cell_type": "code",
   "execution_count": 6,
   "metadata": {
    "collapsed": false
   },
   "outputs": [
    {
     "data": {
      "text/plain": [
       "{0: 0.0, 1: 0.0, 2: 0.0}"
      ]
     },
     "execution_count": 6,
     "metadata": {},
     "output_type": "execute_result"
    }
   ],
   "source": [
    "a.type_matches"
   ]
  },
  {
   "cell_type": "code",
   "execution_count": 7,
   "metadata": {
    "collapsed": false
   },
   "outputs": [
    {
     "data": {
      "text/plain": [
       "{0: 2.0, 1: 1.0, 2: 0.0}"
      ]
     },
     "execution_count": 7,
     "metadata": {},
     "output_type": "execute_result"
    }
   ],
   "source": [
    "a.signal_matches"
   ]
  },
  {
   "cell_type": "code",
   "execution_count": 11,
   "metadata": {
    "collapsed": false
   },
   "outputs": [
    {
     "name": "stdout",
     "output_type": "stream",
     "text": [
      "0 sharing_lexicographic 10 1 1.0 0\n",
      "Amending 3.0\n",
      "Changed to 4.0\n"
     ]
    }
   ],
   "source": [
    "pt, signal, response, payoff = a.get_memory()[1][0]\n",
    "tmp_signaller = type(a)(player_type=pt)\n",
    "a.exogenous_update(signal, response, tmp_signaller, payoff, midwife_type=pt)"
   ]
  },
  {
   "cell_type": "code",
   "execution_count": 14,
   "metadata": {
    "collapsed": false
   },
   "outputs": [
    {
     "data": {
      "text/plain": [
       "{0: {10: 4.0}, 1: {9: 2.0, 10: 1}, 2: {8: 1, 9: 1, 10: 1}}"
      ]
     },
     "execution_count": 14,
     "metadata": {},
     "output_type": "execute_result"
    }
   ],
   "source": [
    "a.payoff_count"
   ]
  },
  {
   "cell_type": "code",
   "execution_count": 10,
   "metadata": {
    "collapsed": false
   },
   "outputs": [
    {
     "data": {
      "text/plain": [
       "[(1, 0, 0, 10)]"
      ]
     },
     "execution_count": 10,
     "metadata": {},
     "output_type": "execute_result"
    }
   ],
   "source": [
    "a.exogenous"
   ]
  },
  {
   "cell_type": "code",
   "execution_count": 12,
   "metadata": {
    "collapsed": false
   },
   "outputs": [
    {
     "data": {
      "text/plain": [
       "(29, [(1, 0, 0, 10), (1, 0, 0, 10), (1, 1, 0, 9)])"
      ]
     },
     "execution_count": 12,
     "metadata": {},
     "output_type": "execute_result"
    }
   ],
   "source": [
    "a.get_memory()"
   ]
  },
  {
   "cell_type": "code",
   "execution_count": null,
   "metadata": {
    "collapsed": true
   },
   "outputs": [],
   "source": []
  }
 ],
 "metadata": {
  "kernelspec": {
   "display_name": "Python 2",
   "language": "python",
   "name": "python2"
  },
  "language_info": {
   "codemirror_mode": {
    "name": "ipython",
    "version": 2
   },
   "file_extension": ".py",
   "mimetype": "text/x-python",
   "name": "python",
   "nbconvert_exporter": "python",
   "pygments_lexer": "ipython2",
   "version": "2.7.10"
  }
 },
 "nbformat": 4,
 "nbformat_minor": 0
}
