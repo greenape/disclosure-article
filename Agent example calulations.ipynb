{
 "cells": [
  {
   "cell_type": "code",
   "execution_count": 2,
   "metadata": {
    "collapsed": false
   },
   "outputs": [],
   "source": [
    "import disclosuregame\n",
    "from disclosuregame.Agents.bayes import BayesianSignaller, BayesianResponder\n",
    "from disclosuregame.Agents.cpt import ProspectTheorySignaller\n",
    "from disclosuregame.Agents.heuristic import LexicographicSignaller\n",
    "from disclosuregame.Agents.payoff import BayesianPayoffSignaller\n",
    "from disclosuregame.Games.game import Game"
   ]
  },
  {
   "cell_type": "code",
   "execution_count": 3,
   "metadata": {
    "collapsed": true
   },
   "outputs": [],
   "source": [
    "response_alpha=[[1.0, 1.0], [1.0, 1.0], [1.0, 1.0]]\n",
    "type_alpha=[1.0, 1.0, 1.0]\n",
    "\n",
    "def make_agents(agent_fn):\n",
    "    a = agent_fn(player_type=1)\n",
    "    b = Responder(player_type=1)\n",
    "    game = Game(baby_payoff=10,referral_cost=9)\n",
    "    a.init_payoffs(game.woman_baby_payoff, game.woman_social_payoff, response_weights=response_alpha, type_weights=type_alpha)\n",
    "    return a, b\n",
    "\n",
    "def play_games(agent, opponent):\n",
    "    a.log_signal(0)\n",
    "    a.update_counts(0, b, 10)\n",
    "    a.log_signal(0)\n",
    "    a.update_counts(0, b, 10)\n",
    "    a.log_signal(1)\n",
    "    a.update_counts(0, b, 9)"
   ]
  },
  {
   "cell_type": "markdown",
   "metadata": {},
   "source": [
    "## Lexicographic"
   ]
  },
  {
   "cell_type": "markdown",
   "metadata": {},
   "source": [
    "## Payoff Based Bayesian Risk Minimisation"
   ]
  },
  {
   "cell_type": "markdown",
   "metadata": {},
   "source": [
    "## Bayesian Risk Minimisation"
   ]
  },
  {
   "cell_type": "code",
   "execution_count": 4,
   "metadata": {
    "collapsed": false
   },
   "outputs": [],
   "source": [
    "a, b = make_agents(BayesianSignaller)"
   ]
  },
  {
   "cell_type": "code",
   "execution_count": 7,
   "metadata": {
    "collapsed": false
   },
   "outputs": [],
   "source": [
    "play_games(a, b)\n",
    "a.update_beliefs()"
   ]
  },
  {
   "cell_type": "code",
   "execution_count": 9,
   "metadata": {
    "collapsed": false
   },
   "outputs": [
    {
     "data": {
      "text/plain": [
       "-9.999999999999998"
      ]
     },
     "execution_count": 9,
     "metadata": {},
     "output_type": "execute_result"
    }
   ],
   "source": [
    "a.risk(0)"
   ]
  },
  {
   "cell_type": "code",
   "execution_count": 10,
   "metadata": {
    "collapsed": false
   },
   "outputs": [
    {
     "data": {
      "text/plain": [
       "-9.333333333333332"
      ]
     },
     "execution_count": 10,
     "metadata": {},
     "output_type": "execute_result"
    }
   ],
   "source": [
    "a.risk(1)"
   ]
  },
  {
   "cell_type": "code",
   "execution_count": 11,
   "metadata": {
    "collapsed": false
   },
   "outputs": [
    {
     "data": {
      "text/plain": [
       "-8.5"
      ]
     },
     "execution_count": 11,
     "metadata": {},
     "output_type": "execute_result"
    }
   ],
   "source": [
    "a.risk(2)"
   ]
  },
  {
   "cell_type": "code",
   "execution_count": 12,
   "metadata": {
    "collapsed": false
   },
   "outputs": [
    {
     "data": {
      "text/plain": [
       "{0: 0.16666666666666666, 1: 0.16666666666666666, 2: 0.6666666666666666}"
      ]
     },
     "execution_count": 12,
     "metadata": {},
     "output_type": "execute_result"
    }
   ],
   "source": [
    "a.type_distribution"
   ]
  },
  {
   "cell_type": "code",
   "execution_count": 13,
   "metadata": {
    "collapsed": false
   },
   "outputs": [
    {
     "data": {
      "text/plain": [
       "{0: {0: 0.75, 1: 0.25},\n",
       " 1: {0: 0.6666666666666666, 1: 0.3333333333333333},\n",
       " 2: {0: 0.5, 1: 0.5}}"
      ]
     },
     "execution_count": 13,
     "metadata": {},
     "output_type": "execute_result"
    }
   ],
   "source": [
    "a.response_belief"
   ]
  },
  {
   "cell_type": "markdown",
   "metadata": {
    "collapsed": true
   },
   "source": [
    "## CPT Example"
   ]
  },
  {
   "cell_type": "code",
   "execution_count": 14,
   "metadata": {
    "collapsed": false
   },
   "outputs": [],
   "source": [
    "a, b = make_agents(ProspectTheorySignaller)\n",
    "play_games(a, b)\n",
    "a.update_beliefs()"
   ]
  },
  {
   "cell_type": "code",
   "execution_count": 20,
   "metadata": {
    "collapsed": false
   },
   "outputs": [
    {
     "name": "stdout",
     "output_type": "stream",
     "text": [
      "[(10, 0.5), (10, 0.16666666666666666), (10, 0.125), (10, 0.125), (10, 0.041666666666666664), (10, 0.041666666666666664)]\n"
     ]
    },
    {
     "data": {
      "text/plain": [
       "7.585775750291834"
      ]
     },
     "execution_count": 20,
     "metadata": {},
     "output_type": "execute_result"
    }
   ],
   "source": [
    "prospects = a.collect_prospects(0)\n",
    "print prospects\n",
    "a.cpt_value(prospects)"
   ]
  },
  {
   "cell_type": "code",
   "execution_count": 17,
   "metadata": {
    "collapsed": false
   },
   "outputs": [
    {
     "name": "stdout",
     "output_type": "stream",
     "text": [
      "[(10, 0.1111111111111111), (10, 0.1111111111111111), (10, 0.05555555555555555), (10, 0.05555555555555555), (9, 0.4444444444444444), (9, 0.2222222222222222)]\n"
     ]
    },
    {
     "data": {
      "text/plain": [
       "7.139727151083673"
      ]
     },
     "execution_count": 17,
     "metadata": {},
     "output_type": "execute_result"
    }
   ],
   "source": [
    "prospects = a.collect_prospects(1)\n",
    "print prospects\n",
    "a.cpt_value(prospects)"
   ]
  },
  {
   "cell_type": "code",
   "execution_count": 18,
   "metadata": {
    "collapsed": false
   },
   "outputs": [
    {
     "name": "stdout",
     "output_type": "stream",
     "text": [
      "[(10, 0.08333333333333333), (10, 0.08333333333333333), (9, 0.08333333333333333), (9, 0.08333333333333333), (8, 0.3333333333333333), (8, 0.3333333333333333)]\n"
     ]
    },
    {
     "data": {
      "text/plain": [
       "6.622393760235688"
      ]
     },
     "execution_count": 18,
     "metadata": {},
     "output_type": "execute_result"
    }
   ],
   "source": [
    "prospects = a.collect_prospects(2)\n",
    "print prospects\n",
    "a.cpt_value(prospects)"
   ]
  },
  {
   "cell_type": "code",
   "execution_count": null,
   "metadata": {
    "collapsed": true
   },
   "outputs": [],
   "source": []
  }
 ],
 "metadata": {
  "kernelspec": {
   "display_name": "Python 2",
   "language": "python",
   "name": "python2"
  },
  "language_info": {
   "codemirror_mode": {
    "name": "ipython",
    "version": 2
   },
   "file_extension": ".py",
   "mimetype": "text/x-python",
   "name": "python",
   "nbconvert_exporter": "python",
   "pygments_lexer": "ipython2",
   "version": "2.7.10"
  }
 },
 "nbformat": 4,
 "nbformat_minor": 0
}
